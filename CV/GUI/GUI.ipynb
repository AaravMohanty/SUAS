{
 "cells": [
  {
   "cell_type": "code",
   "execution_count": 1,
   "metadata": {},
   "outputs": [],
   "source": [
    "\n",
    "# Import module \n",
    "from tkinter import *\n",
    "  \n",
    "# Create object \n",
    "root = Tk() \n",
    "  \n",
    "# Adjust size \n",
    "root.geometry( \"200x200\" ) \n",
    "  \n",
    "# Change the label text \n",
    "def show(): \n",
    "    label.config( text = clicked.get() ) \n",
    "  \n",
    "# Dropdown menu options \n",
    "options = [ \n",
    "    \"Monday\", \n",
    "    \"Tuesday\", \n",
    "    \"Wednesday\", \n",
    "    \"Thursday\", \n",
    "    \"Friday\", \n",
    "    \"Saturday\", \n",
    "    \"Sunday\"\n",
    "] \n",
    "  \n",
    "# datatype of menu text \n",
    "clicked = StringVar() \n",
    "  \n",
    "# initial menu text \n",
    "clicked.set( \"Monday\" ) \n",
    "  \n",
    "# Create Dropdown menu \n",
    "drop = OptionMenu( root , clicked , *options ) \n",
    "drop.pack() \n",
    "  \n",
    "# Create button, it will change label text \n",
    "button = Button( root , text = \"click Me\" , command = show ).pack() \n",
    "  \n",
    "# Create Label \n",
    "label = Label( root , text = \" \" ) \n",
    "label.pack() \n",
    "  \n",
    "# Execute tkinter \n",
    "root.mainloop() "
   ]
  }
 ],
 "metadata": {
  "kernelspec": {
   "display_name": "Python 3",
   "language": "python",
   "name": "python3"
  },
  "language_info": {
   "codemirror_mode": {
    "name": "ipython",
    "version": 3
   },
   "file_extension": ".py",
   "mimetype": "text/x-python",
   "name": "python",
   "nbconvert_exporter": "python",
   "pygments_lexer": "ipython3",
   "version": "3.11.4"
  }
 },
 "nbformat": 4,
 "nbformat_minor": 2
}
