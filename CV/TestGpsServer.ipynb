{
 "cells": [
  {
   "cell_type": "code",
   "execution_count": 1,
   "metadata": {},
   "outputs": [
    {
     "ename": "TypeError",
     "evalue": "cannot unpack non-iterable method object",
     "output_type": "error",
     "traceback": [
      "\u001b[1;31m---------------------------------------------------------------------------\u001b[0m",
      "\u001b[1;31mTypeError\u001b[0m                                 Traceback (most recent call last)",
      "\u001b[1;32mc:\\Users\\ASUS\\OneDrive\\桌面\\UAV\\Socket\\TestGpsServer.ipynb Cell 1\u001b[0m line \u001b[0;36m9\n\u001b[0;32m      <a href='vscode-notebook-cell:/c%3A/Users/ASUS/OneDrive/%E6%A1%8C%E9%9D%A2/UAV/Socket/TestGpsServer.ipynb#W0sZmlsZQ%3D%3D?line=6'>7</a>\u001b[0m server\u001b[39m.\u001b[39mbind((host,port))\n\u001b[0;32m      <a href='vscode-notebook-cell:/c%3A/Users/ASUS/OneDrive/%E6%A1%8C%E9%9D%A2/UAV/Socket/TestGpsServer.ipynb#W0sZmlsZQ%3D%3D?line=7'>8</a>\u001b[0m server\u001b[39m.\u001b[39mlisten()\n\u001b[1;32m----> <a href='vscode-notebook-cell:/c%3A/Users/ASUS/OneDrive/%E6%A1%8C%E9%9D%A2/UAV/Socket/TestGpsServer.ipynb#W0sZmlsZQ%3D%3D?line=8'>9</a>\u001b[0m connection, address \u001b[39m=\u001b[39m server\u001b[39m.\u001b[39maccept\n\u001b[0;32m     <a href='vscode-notebook-cell:/c%3A/Users/ASUS/OneDrive/%E6%A1%8C%E9%9D%A2/UAV/Socket/TestGpsServer.ipynb#W0sZmlsZQ%3D%3D?line=11'>12</a>\u001b[0m \u001b[39mprint\u001b[39m(\u001b[39mf\u001b[39m\u001b[39m\"\u001b[39m\u001b[39mConnected by \u001b[39m\u001b[39m{\u001b[39;00maddress\u001b[39m}\u001b[39;00m\u001b[39m\"\u001b[39m)\n\u001b[0;32m     <a href='vscode-notebook-cell:/c%3A/Users/ASUS/OneDrive/%E6%A1%8C%E9%9D%A2/UAV/Socket/TestGpsServer.ipynb#W0sZmlsZQ%3D%3D?line=12'>13</a>\u001b[0m \u001b[39mwhile\u001b[39;00m \u001b[39mTrue\u001b[39;00m:\n",
      "\u001b[1;31mTypeError\u001b[0m: cannot unpack non-iterable method object"
     ]
    }
   ],
   "source": [
    "import socket\n",
    "\n",
    "host = \"127.0.0.1\"\n",
    "port = 65432\n",
    "\n",
    "server = socket.socket(socket.AF_INET, socket.SOCK_STREAM)\n",
    "server.bind((host,port))\n",
    "server.listen()\n",
    "connection, address = server.accept\n",
    "\n",
    "\n",
    "print(f\"Connected by {address}\")\n",
    "while True:\n",
    "    data = connection.recv(1024)\n",
    "    if not data:\n",
    "        break\n",
    "    print(data)"
   ]
  }
 ],
 "metadata": {
  "kernelspec": {
   "display_name": "Python 3",
   "language": "python",
   "name": "python3"
  },
  "language_info": {
   "codemirror_mode": {
    "name": "ipython",
    "version": 3
   },
   "file_extension": ".py",
   "mimetype": "text/x-python",
   "name": "python",
   "nbconvert_exporter": "python",
   "pygments_lexer": "ipython3",
   "version": "3.11.4"
  }
 },
 "nbformat": 4,
 "nbformat_minor": 2
}
