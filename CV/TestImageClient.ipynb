{
 "cells": [
  {
   "cell_type": "code",
   "execution_count": 1,
   "metadata": {},
   "outputs": [
    {
     "ename": "ConnectionRefusedError",
     "evalue": "[WinError 10061] No connection could be made because the target machine actively refused it",
     "output_type": "error",
     "traceback": [
      "\u001b[1;31m---------------------------------------------------------------------------\u001b[0m",
      "\u001b[1;31mConnectionRefusedError\u001b[0m                    Traceback (most recent call last)",
      "\u001b[1;32mc:\\Users\\ASUS\\OneDrive\\桌面\\UAV\\Socket\\TestImageClient.ipynb Cell 1\u001b[0m line \u001b[0;36m7\n\u001b[0;32m      <a href='vscode-notebook-cell:/c%3A/Users/ASUS/OneDrive/%E6%A1%8C%E9%9D%A2/UAV/Socket/TestImageClient.ipynb#W0sZmlsZQ%3D%3D?line=3'>4</a>\u001b[0m port \u001b[39m=\u001b[39m \u001b[39m65432\u001b[39m\n\u001b[0;32m      <a href='vscode-notebook-cell:/c%3A/Users/ASUS/OneDrive/%E6%A1%8C%E9%9D%A2/UAV/Socket/TestImageClient.ipynb#W0sZmlsZQ%3D%3D?line=5'>6</a>\u001b[0m \u001b[39mwith\u001b[39;00m socket\u001b[39m.\u001b[39msocket(socket\u001b[39m.\u001b[39mAF_INET, socket\u001b[39m.\u001b[39mSOCK_STREAM) \u001b[39mas\u001b[39;00m client:\n\u001b[1;32m----> <a href='vscode-notebook-cell:/c%3A/Users/ASUS/OneDrive/%E6%A1%8C%E9%9D%A2/UAV/Socket/TestImageClient.ipynb#W0sZmlsZQ%3D%3D?line=6'>7</a>\u001b[0m     client\u001b[39m.\u001b[39;49mconnect((\u001b[39m'\u001b[39;49m\u001b[39mlocalhost\u001b[39;49m\u001b[39m'\u001b[39;49m, \u001b[39m1002\u001b[39;49m))\n\u001b[0;32m      <a href='vscode-notebook-cell:/c%3A/Users/ASUS/OneDrive/%E6%A1%8C%E9%9D%A2/UAV/Socket/TestImageClient.ipynb#W0sZmlsZQ%3D%3D?line=8'>9</a>\u001b[0m     file \u001b[39m=\u001b[39m \u001b[39mopen\u001b[39m(\u001b[39m'\u001b[39m\u001b[39mIMG_1673.jpg\u001b[39m\u001b[39m'\u001b[39m, \u001b[39m'\u001b[39m\u001b[39mrb\u001b[39m\u001b[39m'\u001b[39m)\n\u001b[0;32m     <a href='vscode-notebook-cell:/c%3A/Users/ASUS/OneDrive/%E6%A1%8C%E9%9D%A2/UAV/Socket/TestImageClient.ipynb#W0sZmlsZQ%3D%3D?line=9'>10</a>\u001b[0m     image_data \u001b[39m=\u001b[39m file\u001b[39m.\u001b[39mread(\u001b[39m2048\u001b[39m)\n",
      "\u001b[1;31mConnectionRefusedError\u001b[0m: [WinError 10061] No connection could be made because the target machine actively refused it"
     ]
    }
   ],
   "source": [
    "import socket\n",
    "\n",
    "host = \"127.0.0.1\"\n",
    "port = 65432\n",
    "\n",
    "with socket.socket(socket.AF_INET, socket.SOCK_STREAM) as client:\n",
    "    client.connect((host,port))\n",
    "\n",
    "    file = open('IMG_1673.jpg', 'rb')\n",
    "    image_data = file.read(2048)\n",
    "\n",
    "    while image_data:\n",
    "        client.send(image_data)\n",
    "        image_data = file.read(2048)\n",
    "\n",
    "    file.close()"
   ]
  }
 ],
 "metadata": {
  "kernelspec": {
   "display_name": "Python 3",
   "language": "python",
   "name": "python3"
  },
  "language_info": {
   "codemirror_mode": {
    "name": "ipython",
    "version": 3
   },
   "file_extension": ".py",
   "mimetype": "text/x-python",
   "name": "python",
   "nbconvert_exporter": "python",
   "pygments_lexer": "ipython3",
   "version": "3.11.4"
  }
 },
 "nbformat": 4,
 "nbformat_minor": 2
}
