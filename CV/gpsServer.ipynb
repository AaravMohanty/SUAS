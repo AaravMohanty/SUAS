{
 "cells": [
  {
   "cell_type": "code",
   "execution_count": 1,
   "metadata": {},
   "outputs": [
    {
     "name": "stdout",
     "output_type": "stream",
     "text": [
      "Connected by ('127.0.0.1', 61261)\n",
      "b'20202020'\n"
     ]
    }
   ],
   "source": [
    "# gps needs to be like this --> [image.PIL, [longitude, latitude, altitude]]\n",
    "# --> list within a list!!!\n",
    "\n",
    "import socket\n",
    "\n",
    "host = \"127.0.0.1\"\n",
    "port = 65432\n",
    "\n",
    "with socket.socket(socket.AF_INET, socket.SOCK_STREAM) as server:\n",
    "    server.bind((host,port))\n",
    "    server.listen()\n",
    "    connection, address = server.accept()\n",
    "\n",
    "with connection:\n",
    "    print(f\"Connected by {address}\")\n",
    "    while True:\n",
    "        data = connection.recv(1024)\n",
    "        if not data:\n",
    "            break\n",
    "        print(data)"
   ]
  }
 ],
 "metadata": {
  "kernelspec": {
   "display_name": "Python 3",
   "language": "python",
   "name": "python3"
  },
  "language_info": {
   "codemirror_mode": {
    "name": "ipython",
    "version": 3
   },
   "file_extension": ".py",
   "mimetype": "text/x-python",
   "name": "python",
   "nbconvert_exporter": "python",
   "pygments_lexer": "ipython3",
   "version": "3.11.4"
  }
 },
 "nbformat": 4,
 "nbformat_minor": 2
}
