{
 "cells": [
  {
   "cell_type": "code",
   "execution_count": 1,
   "metadata": {},
   "outputs": [
    {
     "ename": "OSError",
     "evalue": "[WinError 10056] A connect request was made on an already connected socket",
     "output_type": "error",
     "traceback": [
      "\u001b[1;31m---------------------------------------------------------------------------\u001b[0m",
      "\u001b[1;31mOSError\u001b[0m                                   Traceback (most recent call last)",
      "\u001b[1;32mc:\\Users\\ASUS\\OneDrive\\桌面\\UAV\\Socket\\TestGpsClient.ipynb Cell 1\u001b[0m line \u001b[0;36m1\n\u001b[0;32m      <a href='vscode-notebook-cell:/c%3A/Users/ASUS/OneDrive/%E6%A1%8C%E9%9D%A2/UAV/Socket/TestGpsClient.ipynb#W0sZmlsZQ%3D%3D?line=6'>7</a>\u001b[0m client \u001b[39m=\u001b[39m socket\u001b[39m.\u001b[39msocket(socket\u001b[39m.\u001b[39mAF_INET, socket\u001b[39m.\u001b[39mSOCK_STREAM)\n\u001b[0;32m      <a href='vscode-notebook-cell:/c%3A/Users/ASUS/OneDrive/%E6%A1%8C%E9%9D%A2/UAV/Socket/TestGpsClient.ipynb#W0sZmlsZQ%3D%3D?line=7'>8</a>\u001b[0m client\u001b[39m.\u001b[39mconnect((host,port))\n\u001b[1;32m---> <a href='vscode-notebook-cell:/c%3A/Users/ASUS/OneDrive/%E6%A1%8C%E9%9D%A2/UAV/Socket/TestGpsClient.ipynb#W0sZmlsZQ%3D%3D?line=9'>10</a>\u001b[0m client\u001b[39m.\u001b[39;49mconnect((host,port))\n\u001b[0;32m     <a href='vscode-notebook-cell:/c%3A/Users/ASUS/OneDrive/%E6%A1%8C%E9%9D%A2/UAV/Socket/TestGpsClient.ipynb#W0sZmlsZQ%3D%3D?line=10'>11</a>\u001b[0m client\u001b[39m.\u001b[39msendall(gps)\n",
      "\u001b[1;31mOSError\u001b[0m: [WinError 10056] A connect request was made on an already connected socket"
     ]
    }
   ],
   "source": [
    "import socket\n",
    "\n",
    "host = \"127.0.0.1\"\n",
    "port = 65432\n",
    "gps = b\"2020202020\"\n",
    "\n",
    "client = socket.socket(socket.AF_INET, socket.SOCK_STREAM)\n",
    "client.connect((host,port))\n",
    "\n",
    "client.connect((host,port))\n",
    "client.sendall(gps)\n"
   ]
  }
 ],
 "metadata": {
  "kernelspec": {
   "display_name": "Python 3",
   "language": "python",
   "name": "python3"
  },
  "language_info": {
   "codemirror_mode": {
    "name": "ipython",
    "version": 3
   },
   "file_extension": ".py",
   "mimetype": "text/x-python",
   "name": "python",
   "nbconvert_exporter": "python",
   "pygments_lexer": "ipython3",
   "version": "3.11.4"
  }
 },
 "nbformat": 4,
 "nbformat_minor": 2
}
