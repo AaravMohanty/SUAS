{
 "cells": [
  {
   "cell_type": "code",
   "execution_count": 1,
   "metadata": {},
   "outputs": [],
   "source": [
    "import socket\n",
    "\n",
    "\n",
    "\n",
    "server = socket.socket(socket.AF_INET, socket.SOCK_STREAM)#AF(address family)_INET, its the ip. SOCK_STREAM is TCP\n",
    "\n",
    "server.bind(('localhost',1002))#give address. localhost is our computer. 1002 is port for us.\n",
    "\n",
    "server.listen()#accept incoming connections\n",
    "\n",
    "\n",
    "client_socket, client_address = server.accept()\n",
    "\n",
    "file = open('server_image.jpg', \"wb\")\n",
    "image_chunk = client_socket.recv(2048)\n",
    "#stream based protocol. 2048 bytes per packet\n",
    "\n",
    "while image_chunk:\n",
    "    file.write(image_chunk)\n",
    "    image_chunk = client_socket.recv(2048)\n",
    "#while each chunk comes the loop writes\n",
    "\n",
    "file.close\n",
    "client_socket.close()"
   ]
  }
 ],
 "metadata": {
  "kernelspec": {
   "display_name": "Python 3",
   "language": "python",
   "name": "python3"
  },
  "language_info": {
   "codemirror_mode": {
    "name": "ipython",
    "version": 3
   },
   "file_extension": ".py",
   "mimetype": "text/x-python",
   "name": "python",
   "nbconvert_exporter": "python",
   "pygments_lexer": "ipython3",
   "version": "3.11.5"
  }
 },
 "nbformat": 4,
 "nbformat_minor": 2
}
