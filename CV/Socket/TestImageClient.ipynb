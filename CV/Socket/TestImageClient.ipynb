{
 "cells": [
  {
   "cell_type": "code",
   "execution_count": 1,
   "metadata": {},
   "outputs": [],
   "source": [
    "import socket\n",
    "\n",
    "host = \"127.0.0.1\" #Local host\n",
    "port = 65432 #any number larger than 1023\n",
    "\n",
    "with socket.socket(socket.AF_INET, socket.SOCK_STREAM) as client:\n",
    "    client.connect((host,port))\n",
    "    file = open('IMG_1664.jpg', 'rb')\n",
    "    image_data = file.read(2048)\n",
    "\n",
    "    while image_data:\n",
    "        client.send(image_data)\n",
    "        image_data = file.read(2048)\n",
    "\n",
    "    file.close()"
   ]
  }
 ],
 "metadata": {
  "kernelspec": {
   "display_name": "Python 3",
   "language": "python",
   "name": "python3"
  },
  "language_info": {
   "codemirror_mode": {
    "name": "ipython",
    "version": 3
   },
   "file_extension": ".py",
   "mimetype": "text/x-python",
   "name": "python",
   "nbconvert_exporter": "python",
   "pygments_lexer": "ipython3",
   "version": "3.11.5"
  }
 },
 "nbformat": 4,
 "nbformat_minor": 2
}
