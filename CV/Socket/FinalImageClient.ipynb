{
 "cells": [
  {
   "cell_type": "code",
   "execution_count": 3,
   "metadata": {},
   "outputs": [],
   "source": [
    "\n",
    "import socket\n",
    "host = \"127.0.0.1\"\n",
    "ImagePort = 65432\n",
    "GpsPort = 23456\n",
    "gps = b\"1.2,2,100\"\n",
    "with socket.socket(socket.AF_INET, socket.SOCK_STREAM) as client:\n",
    "    client.connect((host,ImagePort))\n",
    "\n",
    "    file = open('IMG_1673.jpg', 'rb')\n",
    "    image_data = file.read(1048576) #FIND SOME BETER WAY TO SEND THE IMAGE\n",
    "\n",
    "    while image_data:\n",
    "        client.send(image_data)\n",
    "        image_data = file.read(1048576) #FIND SOME BETER WAY TO SEND THE IMAGE\n",
    "\n",
    "    file.close()\n"
   ]
  }
 ],
 "metadata": {
  "kernelspec": {
   "display_name": "Python 3",
   "language": "python",
   "name": "python3"
  },
  "language_info": {
   "codemirror_mode": {
    "name": "ipython",
    "version": 3
   },
   "file_extension": ".py",
   "mimetype": "text/x-python",
   "name": "python",
   "nbconvert_exporter": "python",
   "pygments_lexer": "ipython3",
   "version": "3.11.4"
  }
 },
 "nbformat": 4,
 "nbformat_minor": 2
}
