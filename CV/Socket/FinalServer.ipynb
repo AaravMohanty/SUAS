{
 "cells": [
  {
   "cell_type": "code",
   "execution_count": 2,
   "metadata": {},
   "outputs": [
    {
     "name": "stdout",
     "output_type": "stream",
     "text": [
      "Connected by ('127.0.0.1', 54373)\n",
      "[1.2, 2.0, 100.0]\n"
     ]
    }
   ],
   "source": [
    "# gps needs to be like this --> [image.PIL, [longitude, latitude, altitude]]\n",
    "# --> list within a list!!!\n",
    "\n",
    "import socket\n",
    "\n",
    "host = \"127.0.0.1\"\n",
    "ImagePort = 65432\n",
    "GpsPort = 23456\n",
    "\n",
    "with socket.socket(socket.AF_INET, socket.SOCK_STREAM) as Imageserver:\n",
    "    Imageserver.bind((host,ImagePort))\n",
    "    Imageserver.listen()\n",
    "    Imageconnection, Imageaddress = Imageserver.accept()\n",
    "\n",
    "with socket.socket(socket.AF_INET, socket.SOCK_STREAM) as Gpsserver:\n",
    "    Gpsserver.bind((host,GpsPort))\n",
    "    Gpsserver.listen()\n",
    "    Gpsconnection, Gpsaddress = Gpsserver.accept()\n",
    "\n",
    "with Gpsconnection:\n",
    "    print(f\"Connected by {Gpsaddress}\")\n",
    "    while True:\n",
    "        data = Gpsconnection.recv(1024)\n",
    "        if not data:\n",
    "            break\n",
    "        Stringgps = bytes.decode(data)\n",
    "\n",
    "gpslist = Stringgps.split(\",\")\n",
    "\n",
    "Realgpslist = []  #LIST NOT TUPLE \n",
    "for i in gpslist:\n",
    "    Realgpslist.append(float(i))\n",
    "print(Realgpslist)\n",
    "\n",
    "\n",
    "\n",
    "#Receiving image    \n",
    "\n",
    "with Imageconnection:\n",
    "    file = open('ethanwl;asnd.jpg', \"wb\")\n",
    "    image_chunk = Imageconnection.recv(1048576) #FIND SOME BETER WAY TO GET THE IMAGE\n",
    "\n",
    "    while image_chunk:\n",
    "        file.write(image_chunk)\n",
    "        image_chunk = Imageconnection.recv(1048576) #FIND SOME BETER WAY TO GET THE IMAGE\n",
    "    file.close\n",
    "\n"
   ]
  }
 ],
 "metadata": {
  "kernelspec": {
   "display_name": "Python 3",
   "language": "python",
   "name": "python3"
  },
  "language_info": {
   "codemirror_mode": {
    "name": "ipython",
    "version": 3
   },
   "file_extension": ".py",
   "mimetype": "text/x-python",
   "name": "python",
   "nbconvert_exporter": "python",
   "pygments_lexer": "ipython3",
   "version": "3.11.4"
  }
 },
 "nbformat": 4,
 "nbformat_minor": 2
}
